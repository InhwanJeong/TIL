{
 "cells": [
  {
   "cell_type": "markdown",
   "id": "c7276ded",
   "metadata": {},
   "source": [
    "# 정제(cleaning) 및 정규화(Normalization)\n",
    "- 코퍼스(말뭉치)에서 용도에 맞게 토큰을 분류하는 작업을 토큰화라고 하며, 토큰화 작업 전, 후에는 텍스트 데이터 용도에 맞게 정제 및 정규화하는 일이 항상 함께한다.\n",
    "  - 정제(cleaning): 갖고 있는 코퍼스로부터 노이즈 데이터를 제거한다.\n",
    "    - 도큰화 전, 후로 모두 실시\n",
    "    - 완벽하게 작업하기 어렵기 떄문에 이정도면 됐다.라는 일종의 합의점을 찾기도 함.\n",
    "  - 정규화(normalization): 표현 방법이 다른 단어들을 통합시켜서 같은 단어로 만들어준다.\n"
   ]
  },
  {
   "cell_type": "markdown",
   "id": "8b84388d",
   "metadata": {},
   "source": [
    "## 1. 규칙에 기반한 표기가 다른 단어들의 통합\n",
    "- USA와 US는 같은 의미를 가지므로 하나의 단어로 정규화할 수 있다.\n",
    "\n",
    "## 2. 대, 소문자 통합\n",
    "- 영어에서는 대부분의 글이 소문자로 작성되기에 소문자로 변환하는 작업을 실시한다.\n",
    "- 무작정 대소문자를 통합해서는 안된다.\n",
    "  - us: 우리를 뜻함. US: 미국을 뜻함\n",
    "  - 회사이름이나 사람이름은 대문자로 유지되는 것이 옳다.\n",
    "  \n",
    "## 3. 불필요한 단어의 제거\n",
    "- 아무의미를 갖지 않는 데이터를 노이즈 데이터라고 하지만, 목적에 맞지 않는 불필요 단어들도 노이즈 데이터라고 한다.\n",
    "\n",
    "### 1) 등장 빈도가 적은 단어\n",
    "- 스팸을 분류하기 위해 100,000개의 데이터가 있는데 5번밖에 등장하지 않은 단어가 있다면 직관적으로 분류에 거의 도움이 되지 않는 것을 알 수 있다.\n",
    "\n",
    "### 2) 길이가 짧은 단어\n",
    "- 영어권 언어는 길이가 짧은 단어를 삭제하는 것만으로도 자연어 처리에서 크게 의미 없는 단어들을 제거할 수 있다. 대부분 불용어에 해당된다.\n",
    "- 한국어는 제거하는게 크게 유효하지 않다.\n"
   ]
  },
  {
   "cell_type": "code",
   "execution_count": 1,
   "id": "7a32646b",
   "metadata": {},
   "outputs": [
    {
     "name": "stdout",
     "output_type": "stream",
     "text": [
      " was wondering anyone out there could enlighten this car.\n"
     ]
    }
   ],
   "source": [
    "import re\n",
    "text = \"I was wondering if anyone out there could enlighten me on this car.\"\n",
    "\n",
    "# 길이가 1~2인 단어들을 정규 표현식을 이용하여 삭제\n",
    "shortword = re.compile(r'\\W*\\b\\w{1,2}\\b')\n",
    "print(shortword.sub('', text))"
   ]
  },
  {
   "cell_type": "markdown",
   "id": "b123f861",
   "metadata": {},
   "source": [
    "## 4. 정규 표현식(Regular Expression)\n",
    "- 얻어낸 코퍼스의 특징을 잡아낸다면 정규표현식을 통해 제거한다."
   ]
  },
  {
   "cell_type": "markdown",
   "id": "226dc345",
   "metadata": {},
   "source": [
    "# 요약\n",
    "- 정제: 코퍼스 노이즈 제거, 토큰화 전후로 실시\n",
    "- 정규화(정규 표현식을 사용하여 제거)\n",
    "  - 같은 의미를 가진 단어를 통합\n",
    "  - 대, 소문자 통합\n",
    "  - 불필요한 단어 제거(등장빈도가 적은 단어, 길이가 짧은 단어(영어))"
   ]
  }
 ],
 "metadata": {
  "kernelspec": {
   "display_name": "Python 3 (ipykernel)",
   "language": "python",
   "name": "python3"
  },
  "language_info": {
   "codemirror_mode": {
    "name": "ipython",
    "version": 3
   },
   "file_extension": ".py",
   "mimetype": "text/x-python",
   "name": "python",
   "nbconvert_exporter": "python",
   "pygments_lexer": "ipython3",
   "version": "3.10.8"
  }
 },
 "nbformat": 4,
 "nbformat_minor": 5
}
