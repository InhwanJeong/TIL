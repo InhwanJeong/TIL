{
 "cells": [
  {
   "cell_type": "markdown",
   "id": "b8f5fa45",
   "metadata": {},
   "source": [
    "# 어간 추출(Stemming) 및 표제어 추출(Lemmatization)\n",
    "- 코퍼스 단어 개수를 줄일 수 있는 기법(눈으로 봤을 때 다른 단어라도 하나의 단어로 일반화 시킬 수 있다면 하나의 단어로 일반화 시켜 단어의 수를 줄임)\n",
    "  - 어간 추출: 뿌리의 단어가 아닌 핵심 단어들만 추출\n",
    "  - 표제어 추출: 단어들이 다른형태를 가지더라도 그 뿌리 단어를 찾아가서 단어의 개수를 줄일 수 있는지 판단\n",
    "- 자연어 전처리(정규화)의 지향점은 갖고있는 코퍼스로부터 복잡성을 줄이는 것이 목표이다."
   ]
  },
  {
   "cell_type": "markdown",
   "id": "905e17ec",
   "metadata": {},
   "source": [
    "## 1. 표제어 추출(Lemmatization)\n",
    "- 표제어: 표제어 또는 기본 사전형 단어\n",
    "  - am, are, is의 표제어는 be이다.\n",
    "- 표제어 추출을 하는 가장 섬세한 방법은 단어의 형태학적 파싱을 먼저 진행하는것이다. \n",
    "  - 형태소란 '의미를 가진 가장 작은 단위'를 뜻하며 \n",
    "    - 어간(stem): 단어의 의미를 담고있는 단어의 핵심부분\n",
    "    - 접사(affix): 단어에 추가적인 의미를 주는 부분\n",
    "  - 형태학이란 형태소로부터 단어를 만들어가는 학문을 뜻함.\n",
    "  \n",
    "- NLTK에서는 표제어 추출을 위한 도구 WordNetLemmatizer를 제공한다."
   ]
  },
  {
   "cell_type": "code",
   "execution_count": 1,
   "id": "dbffb38a",
   "metadata": {},
   "outputs": [
    {
     "name": "stdout",
     "output_type": "stream",
     "text": [
      "표제어 추출 전 : ['policy', 'doing', 'organization', 'have', 'going', 'love', 'lives', 'fly', 'dies', 'watched', 'has', 'starting'] \n",
      "\n",
      "표제어 추출 후 : ['policy', 'doing', 'organization', 'have', 'going', 'love', 'life', 'fly', 'dy', 'watched', 'ha', 'starting']\n"
     ]
    }
   ],
   "source": [
    "from nltk.stem import WordNetLemmatizer\n",
    "\n",
    "lemmatizer = WordNetLemmatizer()\n",
    "\n",
    "words = ['policy', 'doing', 'organization', 'have', 'going', 'love', 'lives', 'fly', 'dies', 'watched', 'has', 'starting']\n",
    "\n",
    "print('표제어 추출 전 :',words, '\\n')\n",
    "print('표제어 추출 후 :',[lemmatizer.lemmatize(word) for word in words])"
   ]
  },
  {
   "cell_type": "markdown",
   "id": "de102dc5",
   "metadata": {},
   "source": [
    "- 위 예시에서는 dy나 ha와 같이 의미를 알 수 없는 적절하지 못한 단어를 출력하고 있다.\n",
    "  - 단어의 품사정보를 입력해 정확한 결과를 얻을 수 있다."
   ]
  },
  {
   "cell_type": "code",
   "execution_count": 3,
   "id": "3faa220e",
   "metadata": {},
   "outputs": [
    {
     "name": "stdout",
     "output_type": "stream",
     "text": [
      "die \n",
      "\n",
      "watch \n",
      "\n",
      "have\n"
     ]
    }
   ],
   "source": [
    "print(lemmatizer.lemmatize('dies', 'v'), '\\n')\n",
    "print(lemmatizer.lemmatize('watched', 'v'), '\\n')\n",
    "print(lemmatizer.lemmatize('has', 'v'))"
   ]
  },
  {
   "cell_type": "markdown",
   "id": "f90937b5",
   "metadata": {},
   "source": [
    "## 2. 어간 추출(stemming)\n",
    "- 표제어 추출의 단순화 버전이라고 볼 수 있다.\n",
    "      - 섬세한 작업이 아니기 떄문에 사전에 존재하지 않는 단어일 수도 있다."
   ]
  },
  {
   "cell_type": "code",
   "execution_count": 4,
   "id": "e7190b86",
   "metadata": {},
   "outputs": [
    {
     "name": "stdout",
     "output_type": "stream",
     "text": [
      "어간 추출 전 : ['This', 'was', 'not', 'the', 'map', 'we', 'found', 'in', 'Billy', 'Bones', \"'s\", 'chest', ',', 'but', 'an', 'accurate', 'copy', ',', 'complete', 'in', 'all', 'things', '--', 'names', 'and', 'heights', 'and', 'soundings', '--', 'with', 'the', 'single', 'exception', 'of', 'the', 'red', 'crosses', 'and', 'the', 'written', 'notes', '.'] \n",
      "\n",
      "어간 추출 후 : ['thi', 'wa', 'not', 'the', 'map', 'we', 'found', 'in', 'billi', 'bone', \"'s\", 'chest', ',', 'but', 'an', 'accur', 'copi', ',', 'complet', 'in', 'all', 'thing', '--', 'name', 'and', 'height', 'and', 'sound', '--', 'with', 'the', 'singl', 'except', 'of', 'the', 'red', 'cross', 'and', 'the', 'written', 'note', '.']\n"
     ]
    }
   ],
   "source": [
    "from nltk.stem import PorterStemmer\n",
    "from nltk.tokenize import word_tokenize\n",
    "\n",
    "stemmer = PorterStemmer()\n",
    "\n",
    "sentence = \"This was not the map we found in Billy Bones's chest, but an accurate copy, complete in all things--names and heights and soundings--with the single exception of the red crosses and the written notes.\"\n",
    "tokenized_sentence = word_tokenize(sentence)\n",
    "\n",
    "print('어간 추출 전 :', tokenized_sentence, '\\n')\n",
    "print('어간 추출 후 :',[stemmer.stem(word) for word in tokenized_sentence])"
   ]
  },
  {
   "cell_type": "code",
   "execution_count": 5,
   "id": "7eacf75c",
   "metadata": {},
   "outputs": [
    {
     "name": "stdout",
     "output_type": "stream",
     "text": [
      "어간 추출 전 : ['formalize', 'allowance', 'electricical'] \n",
      "\n",
      "어간 추출 후 : ['formal', 'allow', 'electric']\n"
     ]
    }
   ],
   "source": [
    "words = ['formalize', 'allowance', 'electricical']\n",
    "\n",
    "print('어간 추출 전 :',words, '\\n')\n",
    "print('어간 추출 후 :',[stemmer.stem(word) for word in words])"
   ]
  },
  {
   "cell_type": "markdown",
   "id": "116e1fc9",
   "metadata": {},
   "source": [
    "- 어간 추출 속도는 표제어 추출보다 일반적으로 빠르다."
   ]
  },
  {
   "cell_type": "markdown",
   "id": "b7e2fb95",
   "metadata": {},
   "source": [
    "## 3. 한국어에서 어간 추출\n",
    "- 한국어는 5언 9품사의 구조를 가지고 있다.\n",
    "  - 체언 - 명사, 대명사, 수사\n",
    "  - 수식언 - 관형사, 부사\n",
    "  - 관계언 - 조사\n",
    "  - 독립언 - 감탄사\n",
    "  - 용언 - 동사, 형용사\n",
    "- 용언 해당되는 동사와 형용사는 어간과 어미의 결합으로 구성된다.\n",
    "\n",
    "### (1) 활용(conjugation)\n",
    "- 활용이란 용언의 어간이 어미를 가지는 일을 말한다.\n",
    "- 어간(stem): 용언(동사, 형용사)을 활용할 때, 원칙적으로 모양이 변하지 않는 부분. 활용에서 어미에 선행하는 부분, 때론 어간의 모양이 바뀔수도 있음(긋다, 긋고, 그어서, 그어라)\n",
    "- 어미(ending): 용언의 어간 뒤에 붙어서 활용하면서 변하는 부분\n",
    "\n",
    "### (2) 규칙 활용\n",
    "- 규칙활용은 어간이 어미를 취할 때, 어간의 모습이 일정하다.\n",
    "- e.g. 잡/어간 + 다/어미\n",
    "- 이와 같은 경우 규칙기반으로 어미를 단순히 불리해주면 어간추출이 된다.\n",
    "\n",
    "### (3) 불규칙 활용\n",
    "- 어간이 어미를 취할 때 어간의 모습이 바뀌거나 취하는 특수한 어미일 경우\n",
    "  - 듣-, 돕-, 잇-, 오르-, 노랗- 등이 듣/들-, 돕/도우-, 곱/고우-, 잇/이-, 노랗/노라-와 같이 어간이 형식이 달라지거나\n",
    "  - 오르 + 아/어 -> 올라 와 같이 특수한 어미를 취하는 경우\n",
    "  "
   ]
  },
  {
   "cell_type": "code",
   "execution_count": null,
   "id": "c21a536e",
   "metadata": {},
   "outputs": [],
   "source": []
  }
 ],
 "metadata": {
  "kernelspec": {
   "display_name": "Python 3 (ipykernel)",
   "language": "python",
   "name": "python3"
  },
  "language_info": {
   "codemirror_mode": {
    "name": "ipython",
    "version": 3
   },
   "file_extension": ".py",
   "mimetype": "text/x-python",
   "name": "python",
   "nbconvert_exporter": "python",
   "pygments_lexer": "ipython3",
   "version": "3.10.8"
  }
 },
 "nbformat": 4,
 "nbformat_minor": 5
}
