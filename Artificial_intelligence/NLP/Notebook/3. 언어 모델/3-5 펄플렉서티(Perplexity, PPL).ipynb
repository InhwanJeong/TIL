{
 "cells": [
  {
   "cell_type": "markdown",
   "id": "c425c937",
   "metadata": {},
   "source": [
    "# 펄플렉서티(Perplexity, PPL)\n",
    "- 두개의 모델 A, B가 있을 때 두 모델의 성능은 조금 부정확할 수 있지만 간단하게 비교하는 방법이 있다.\n",
    "  - 모델 내에서 자신의 성능을 수치화하여 결과를 내놓는 펄플렉서티(perplexity)이다.\n",
    "  \n",
    "## 1. 언어 모델의 평가 방법(Evaluation metric): PPL\n",
    "- 언어모델을 평가하기 위한 평가지표\n",
    "- PPL은 헷갈리는 정도를 나타내기 때문에 낮을수록 좋다.\n",
    "\n",
    "## 2. 분기 계수(Branching factor)\n",
    "- PPL은 선택할 수 있는 가능한 경우의 수를 의미하는 분기계수(branching factor)이다.\n",
    "- PPL의 값이 낮다는 것은 테스트 데이터 상에서 높은 정확도를 보이는 것이지 사람이 느끼기에 좋은 모델은 아님."
   ]
  }
 ],
 "metadata": {
  "kernelspec": {
   "display_name": "Python 3 (ipykernel)",
   "language": "python",
   "name": "python3"
  },
  "language_info": {
   "codemirror_mode": {
    "name": "ipython",
    "version": 3
   },
   "file_extension": ".py",
   "mimetype": "text/x-python",
   "name": "python",
   "nbconvert_exporter": "python",
   "pygments_lexer": "ipython3",
   "version": "3.10.8"
  }
 },
 "nbformat": 4,
 "nbformat_minor": 5
}
