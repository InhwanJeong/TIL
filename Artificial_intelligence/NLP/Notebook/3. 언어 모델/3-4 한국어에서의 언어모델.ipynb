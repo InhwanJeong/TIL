{
 "cells": [
  {
   "cell_type": "markdown",
   "id": "0c6ecc55",
   "metadata": {},
   "source": [
    "# 한국어 언어모델\n",
    "- 영어나 기타 언어에 비해서 한국어는 언어 모델로 다음 단어를 예측하기가 훨씬 까다롭다.\n",
    "\n",
    "## 1. 한국어는 어순이 중요하지 않다.\n",
    "- 다음 단어가 나타날 확률을 구해야하는데 어순이 중요하지 않다는 것은 어떤 단어든 등장할 수 있다는 것이다.\n",
    "  - 1. 나는 운동을 합니다 체육관에서.  \n",
    "  - 2. 나는 체육관에서 운동을 합니다.  \n",
    "  - 3. 체육관에서 운동을 합니다.  \n",
    "  - 4. 나는 운동을 체육관에서 합니다.\n",
    "\n",
    "## 2. 한국어는 교착어이다.\n",
    "- 그녀가, 그녀의, 그녀를, 그녀로, 그녀에게, 그녀처럼 등 다양한 경우가 존재.\n",
    "\n",
    "## 3. 한국어는 띄어쓰기가 제대로 지켜지지 않는다.\n",
    "- 한국어 코퍼스는 띄어쓰기가 제대로 지켜지지 않는 경우가 많다. 토큰이 제대로 분리 되지 않은채 훈련 데이터로 사용된다면 언어 모델은 제대로 동작하지 않는다."
   ]
  }
 ],
 "metadata": {
  "kernelspec": {
   "display_name": "Python 3 (ipykernel)",
   "language": "python",
   "name": "python3"
  },
  "language_info": {
   "codemirror_mode": {
    "name": "ipython",
    "version": 3
   },
   "file_extension": ".py",
   "mimetype": "text/x-python",
   "name": "python",
   "nbconvert_exporter": "python",
   "pygments_lexer": "ipython3",
   "version": "3.10.8"
  }
 },
 "nbformat": 4,
 "nbformat_minor": 5
}
