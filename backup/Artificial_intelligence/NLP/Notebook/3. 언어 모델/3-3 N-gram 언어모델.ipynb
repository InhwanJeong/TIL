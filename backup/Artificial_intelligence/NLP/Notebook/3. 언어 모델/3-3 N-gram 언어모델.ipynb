{
 "cells": [
  {
   "cell_type": "markdown",
   "id": "67561780",
   "metadata": {},
   "source": [
    "# N-gram Language Model\n",
    "- 카운트 기반의 통계적 접근을 사용하므로 SLM의 일종이다.\n",
    "- 모든 단어를 고려하는 것이 아닌 일부 단어만 고려하는 접근 방법을 사용함.\n",
    "\n",
    "## 1. 코퍼스에서 카운트하지 못하는 경우의 감소\n",
    "- SLM의 한계는 훈련 코퍼스에 확률을 계산할 때 문장이나 단어가 없을 수도 있다.\n",
    "- 문장이 길어질수록 문장이 없을 확률이 높다.\n",
    "- P(is|An adorable little boy)보다 P(is|boy)가 나올 확률이 높다.\n",
    "- P(is|An adorable little boy)보다 P(is|little boy)가 나올 확률이 높다.\n",
    "\n",
    "## 2. N-gram\n",
    "- 임의의 개수를 정하기 위한 기준을 위해 사용하는 것이 N-gram이다.\n",
    "  - n-gram은 n개의 연속적인 단어 나열을 의미한다.\n",
    "- An adorable little boy is spreading smiles의 n-gram은 다음과 같다.\n",
    "  - unigrams : an, adorable, little, boy, is, spreading, smiles\n",
    "  - bigrams : an adorable, adorable little, little boy, boy is, is spreading, spreading smiles\n",
    "  - trigrams : an adorable little, adorable little boy, little boy is, boy is spreading, is spreading smiles\n",
    "  - 4-grams : an adorable little boy, adorable little boy is, little boy is spreading, boy is spreading smiles\n",
    "- n-gram에서 각 단어는 앞에 n-1개의 단어들만 고려한다.\n",
    "\n",
    "## 3. N-gram Language Model의 한계\n",
    "- 일부 단어들만 보고 결정하니 의도와 다르게 동작할 수도 있다.\n",
    "\n",
    "### 1) 희소문제\n",
    "- 여전히 N-gram에도 희소문제가 존재한다.\n",
    "\n",
    "### 2) n을 선택하는 것은 trade-off 문제\n",
    "- n은 최대 5를 넘게 잡아서는 안된다고 권장되고 있음.\n",
    "- 스탠퍼드 대학에서 3,800만 개의 단어 토큰을 n-gram 언어 모델에 학습하고 1,500만 개의 테스트 데이터에서 테스트 했을 때 다음과 같이 나옴\n",
    "  - Unigram: (962, Perplexity), Bigram: (170, Perplexity), Trigram (109, Perplexity)\n",
    "  - Perplexity는 낮을수록 성능이 좋다."
   ]
  },
  {
   "cell_type": "code",
   "execution_count": null,
   "id": "1b4cc31c",
   "metadata": {},
   "outputs": [],
   "source": []
  }
 ],
 "metadata": {
  "kernelspec": {
   "display_name": "Python 3 (ipykernel)",
   "language": "python",
   "name": "python3"
  },
  "language_info": {
   "codemirror_mode": {
    "name": "ipython",
    "version": 3
   },
   "file_extension": ".py",
   "mimetype": "text/x-python",
   "name": "python",
   "nbconvert_exporter": "python",
   "pygments_lexer": "ipython3",
   "version": "3.10.8"
  }
 },
 "nbformat": 4,
 "nbformat_minor": 5
}
