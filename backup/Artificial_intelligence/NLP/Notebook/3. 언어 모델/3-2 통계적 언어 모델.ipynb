{
 "cells": [
  {
   "cell_type": "markdown",
   "id": "f59c8bb9",
   "metadata": {},
   "source": [
    "# 통계적 언어 모델(Statistical Language Model, SLM)\n",
    "\n",
    "## 1. 조건부 확률\n",
    "- 조건부 확률은 두 확률 P(A), P(B)에 대해서 아래와 같은 관계를 가진다.\n",
    "  - P(B|A) = P(A ∩ B) / P(A)\n",
    "  - P(A ∩ B) = P(A) * P(B|A)\n",
    "- 조건부 확률의 연쇄 법칙(chain rule)\n",
    "  - P(A ∩ B ∩ C ∩ D) = P(A) * P(B|A) * P(C|A ∩ B) * P(D| A ∩ B ∩ C)\n",
    "  \n",
    "## 2. 문장에 대한 확률\n",
    "- 문장 'An adorable little boy is spreading smiles'의 확률 P(An adorable little boy is spreading smiles)를 식으로 표현해봅시다.\n",
    "\n",
    "- 위의 문장에 해당 식을 적용해보면 다음과 같습니다.\n",
    "\n",
    "P(An adorable little boy is spreading smiles) = P(An) × P(adorable|An) × P(little|An adorable) × P(boy|An adorable little) × P(is|An adorable little boy) × P(spreading|An adorable little boy is) × P(smiles|An adorable little boy is spreading)\n",
    "\n",
    "- 문장의 확률을 구하기 위해서 각 단어에 대한 예측 확률들을 곱합니다.\n",
    "\n",
    "## 3. 카운트 기반의 접근\n",
    "- 이전 단어로부터 다음 단어의 확률 구하는 방법 - 카운트 기반의 확률 계산\n",
    "  - P(is|An adorable little boy) = count(An adorable little boy is) / count(An adorable little boy)\n",
    "  - An adorable little boy가 100번 등장하고 An adorable little boy is가 30번 등장하면 30%가 된다.\n",
    "\n",
    "## 4. 카운트 기반 접근의 한계 - 희소 문제(Sparsity Problem)\n",
    "- 언어 모델은 실생활에서 사용되는 언어의 확률 분포를 근사 모델링한다.\n",
    "- An adorable little boy가 나왔을 때 is가 나올 확률이 존재한다. - (자연어 확률 분포 or 현실에서의 확률 분포)\n",
    "- 기계에게 많은 코퍼스를 학습시켜 언어모델을 통해 현실에서의 확률 분포를 근사하는 것이 언어 모델의 목표이다.\n",
    "- 하지만 카운트 기반으로 접근한다면 가지고 있는 코퍼스가 정말 방대한 양이 필요하다.\n",
    "- 충분한 데이터를 관측하지 못하여 언어를 정확히 모델링하지 못하는 문제를 희소 문제(sparsity problem)라고 한다.\n",
    "  - 이를 완화하기 위해 n-gram 언어모델, 스무딩, 백오프, 일반화 기법 등이 있다.\n",
    "  - 근본적인 해결책은 아니기에 언어모델 트렌드는 인공 신경망 모델로 넘어가게 된다."
   ]
  }
 ],
 "metadata": {
  "kernelspec": {
   "display_name": "Python 3 (ipykernel)",
   "language": "python",
   "name": "python3"
  },
  "language_info": {
   "codemirror_mode": {
    "name": "ipython",
    "version": 3
   },
   "file_extension": ".py",
   "mimetype": "text/x-python",
   "name": "python",
   "nbconvert_exporter": "python",
   "pygments_lexer": "ipython3",
   "version": "3.10.8"
  }
 },
 "nbformat": 4,
 "nbformat_minor": 5
}
