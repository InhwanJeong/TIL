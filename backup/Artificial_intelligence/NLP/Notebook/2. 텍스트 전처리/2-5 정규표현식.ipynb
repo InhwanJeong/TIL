{
 "cells": [
  {
   "cell_type": "markdown",
   "id": "bf583510",
   "metadata": {},
   "source": [
    "# 정규표현식(Regular Expression)\n",
    "- 텍스트 전처리에서 정규표현식은 아주 유용한 도구이다.\n",
    "\n",
    "## 1. 정규표현식 문법과 모듈 함수\n",
    "- 파이썬에서는 정규 표현식 모듈 re를 지원한다.\n",
    "  - 정규표현식 문법\n",
    "    - . ? * + ^ $ {} []\n",
    "    - \\\\\\ \\\\d \\\\D \\\\s \\\\S \\\\w \\\\W\n",
    "  - 정규표현식 모듈 함수\n",
    "    - re.compile()\n",
    "    - re.search()\n",
    "    - re.match()\n",
    "    - re.split()\n",
    "    - re.findall()\n",
    "    - re.finditer()\n",
    "    - re.sub()\n",
    "\n",
    "## 2. 정규 표현식 문법 예제"
   ]
  },
  {
   "cell_type": "code",
   "execution_count": 1,
   "id": "ed0ac194",
   "metadata": {},
   "outputs": [],
   "source": [
    "import re"
   ]
  },
  {
   "cell_type": "code",
   "execution_count": 3,
   "id": "12e76717",
   "metadata": {},
   "outputs": [
    {
     "name": "stdout",
     "output_type": "stream",
     "text": [
      "None\n",
      "<re.Match object; span=(0, 3), match='abc'>\n"
     ]
    }
   ],
   "source": [
    "\"\"\"\n",
    ".기호\n",
    "한 개의 임의의 문자를 나타냄.\n",
    "a.c 사이에는 어떤 1개의 문자라도 올 수 있다. e.g. abc, acc, axc, azc 등\n",
    "\"\"\"\n",
    "r = re.compile(\"a.c\")\n",
    "print(r.search(\"kkk\")) # 아무런 결과도 출력되지 않는다.\n",
    "print(r.search(\"abc\"))"
   ]
  },
  {
   "cell_type": "markdown",
   "id": "49359ab7",
   "metadata": {},
   "source": [
    "## 3. 정규 표현식 모듈 함수 예제\n",
    "\n",
    "### (1) re.match()와 re.search()의 차이\n",
    "- match는 문자열 첫부분부터 매치하는지 확인\n",
    "- search는 표현식 전체에 대해 문자열 매치하는 확인"
   ]
  },
  {
   "cell_type": "code",
   "execution_count": 7,
   "id": "b6a84403",
   "metadata": {},
   "outputs": [
    {
     "name": "stdout",
     "output_type": "stream",
     "text": [
      "None\n",
      "<re.Match object; span=(3, 6), match='abc'>\n",
      "<re.Match object; span=(0, 3), match='abc'>\n"
     ]
    }
   ],
   "source": [
    "r = re.compile(\"ab.\")\n",
    "print(r.match(\"kkkabc\")) # 아무런 결과도 출력되지 않는다.\n",
    "print(r.search(\"kkkabc\"))\n",
    "\n",
    "print(r.match(\"abckkk\"))  "
   ]
  },
  {
   "cell_type": "markdown",
   "id": "e998cf98",
   "metadata": {},
   "source": [
    "### (2) re.split()\n",
    "- 정규표현식을 기준으로 문자열을 분리해준다.\n"
   ]
  },
  {
   "cell_type": "code",
   "execution_count": 11,
   "id": "2799e81b",
   "metadata": {},
   "outputs": [
    {
     "name": "stdout",
     "output_type": "stream",
     "text": [
      "['kkkab', 'ck', 'kas', 'aa']\n"
     ]
    }
   ],
   "source": [
    "r = re.compile(\"\\\\d\")\n",
    "print(r.split(\"kkkab2ck1kas2aa\"))"
   ]
  },
  {
   "cell_type": "markdown",
   "id": "e8f83f8d",
   "metadata": {},
   "source": [
    "### (3) re.findall()\n",
    "- 정규표현식과 매칭되는 모든 문자열을 리스트로 리턴"
   ]
  },
  {
   "cell_type": "code",
   "execution_count": 13,
   "id": "d522f468",
   "metadata": {},
   "outputs": [
    {
     "name": "stdout",
     "output_type": "stream",
     "text": [
      "['010', '1234', '1234', '30']\n"
     ]
    }
   ],
   "source": [
    "text = \"\"\"이름 : 김철수\n",
    "전화번호 : 010 - 1234 - 1234\n",
    "나이 : 30\n",
    "성별 : 남\"\"\"\n",
    "\n",
    "print(re.findall(\"\\d+\", text))"
   ]
  },
  {
   "cell_type": "markdown",
   "id": "2a349572",
   "metadata": {},
   "source": [
    "### (4) re.sub()\n",
    "- 정규 표현식과 일치하는 패턴을 찾아 다른 문자열로 바꾸어 준다.\n",
    "  - 특수문자 제거 등 사용 가능"
   ]
  },
  {
   "cell_type": "code",
   "execution_count": 14,
   "id": "14ea37ed",
   "metadata": {},
   "outputs": [
    {
     "name": "stdout",
     "output_type": "stream",
     "text": [
      "Regular expression   A regular expression  regex or regexp     sometimes called a rational expression        is  in theoretical computer science and formal language theory  a sequence of characters that define a search pattern \n"
     ]
    }
   ],
   "source": [
    "text = \"Regular expression : A regular expression, regex or regexp[1] (sometimes called a rational expression)[2][3] is, in theoretical computer science and formal language theory, a sequence of characters that define a search pattern.\"\n",
    "\n",
    "preprocessed_text = re.sub('[^a-zA-Z]', ' ', text)\n",
    "print(preprocessed_text)"
   ]
  },
  {
   "cell_type": "markdown",
   "id": "f141e8d8",
   "metadata": {},
   "source": [
    "## 4. 정규 표현식 텍스트 전처리 예제\n"
   ]
  },
  {
   "cell_type": "code",
   "execution_count": 21,
   "id": "faa3192e",
   "metadata": {},
   "outputs": [
    {
     "name": "stdout",
     "output_type": "stream",
     "text": [
      "['100', 'John', 'PROF', '101', 'James', 'STUD', '102', 'Mac', 'STUD']\n",
      "['100', '101', '102']\n",
      "['J', 'P', 'R', 'O', 'F', 'J', 'S', 'T', 'U', 'D', 'M', 'S', 'T', 'U', 'D']\n",
      "['John', 'James', 'Mac']\n",
      "['PROF', 'STUD', 'STUD']\n"
     ]
    }
   ],
   "source": [
    "text = \"\"\"100 John    PROF\n",
    "101 James   STUD\n",
    "102 Mac   STUD\"\"\"\n",
    "\n",
    "print(re.split('\\s+', text)) # 공백이 최소 1개 이상인 패턴 기준으로 나누어 줌\n",
    "print(re.findall('\\d+',text)) # 숫자를 포함한 데이터만 가져옴\n",
    "print(re.findall('[A-Z]',text))# 대문자인 값만 가져오도록 함.\n",
    "print(re.findall('[A-Z][a-z]+',text)) # 이름같은 경우 다음과 같이 보통 가져올 수 있음\n",
    "print(re.findall('[A-Z][A-Z]+',text)) # 세번째 컬럼은 다음과 같이 가져올 수 있다."
   ]
  },
  {
   "cell_type": "markdown",
   "id": "39a9f761",
   "metadata": {},
   "source": [
    "## 5. 정규 표현식을 이용한 토큰화\n",
    "- NLTK에서는 정규 표현식을 사용하여 단어 토큰화를 수행하는 RegexpTokenizer를 제공"
   ]
  },
  {
   "cell_type": "code",
   "execution_count": 22,
   "id": "c9f46f99",
   "metadata": {},
   "outputs": [
    {
     "name": "stdout",
     "output_type": "stream",
     "text": [
      "['Don', 't', 'be', 'fooled', 'by', 'the', 'dark', 'sounding', 'name', 'Mr', 'Jone', 's', 'Orphanage', 'is', 'as', 'cheery', 'as', 'cheery', 'goes', 'for', 'a', 'pastry', 'shop']\n",
      "[\"Don't\", 'be', 'fooled', 'by', 'the', 'dark', 'sounding', 'name,', 'Mr.', \"Jone's\", 'Orphanage', 'is', 'as', 'cheery', 'as', 'cheery', 'goes', 'for', 'a', 'pastry', 'shop']\n"
     ]
    }
   ],
   "source": [
    "from nltk.tokenize import RegexpTokenizer\n",
    "\n",
    "text = \"Don't be fooled by the dark sounding name, Mr. Jone's Orphanage is as cheery as cheery goes for a pastry shop\"\n",
    "\n",
    "tokenizer1 = RegexpTokenizer(\"[\\w]+\")\n",
    "tokenizer2 = RegexpTokenizer(\"\\s+\", gaps=True)\n",
    "\n",
    "print(tokenizer1.tokenize(text))\n",
    "print(tokenizer2.tokenize(text))"
   ]
  },
  {
   "cell_type": "code",
   "execution_count": null,
   "id": "11fe4066",
   "metadata": {},
   "outputs": [],
   "source": []
  },
  {
   "cell_type": "code",
   "execution_count": null,
   "id": "8bcf50c7",
   "metadata": {},
   "outputs": [],
   "source": []
  }
 ],
 "metadata": {
  "kernelspec": {
   "display_name": "Python 3 (ipykernel)",
   "language": "python",
   "name": "python3"
  },
  "language_info": {
   "codemirror_mode": {
    "name": "ipython",
    "version": 3
   },
   "file_extension": ".py",
   "mimetype": "text/x-python",
   "name": "python",
   "nbconvert_exporter": "python",
   "pygments_lexer": "ipython3",
   "version": "3.10.8"
  }
 },
 "nbformat": 4,
 "nbformat_minor": 5
}
