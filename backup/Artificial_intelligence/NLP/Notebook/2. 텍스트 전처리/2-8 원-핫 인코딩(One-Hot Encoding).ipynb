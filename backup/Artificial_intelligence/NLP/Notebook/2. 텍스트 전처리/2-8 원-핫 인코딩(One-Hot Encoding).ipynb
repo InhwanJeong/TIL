{
 "cells": [
  {
   "cell_type": "markdown",
   "id": "ae3b26ec",
   "metadata": {},
   "source": [
    "# 원-핫 인코딩(One-Hot Encoding)\n",
    "- 문자를 숫자로 바꿔주는 기법중 가장 기본적인 방법\n",
    "- 단어집합(vocabulary)은 서로 다른 단어들의 집합\n",
    "  - book과 books와 같은 단어 변형 형태도 다른 단어로 간주.\n",
    "- 원-핫 인코딩\n",
    "  - 단어 집합을 만든다.(중복을 허용하지 않음)\n",
    "  - 단어 집합에 고유 번호(정수 인코딩)을 부여한다.\n",
    "  \n",
    " \n",
    "## 1. 원-핫 인코딩이란?\n",
    "- 단어 집합의 크기를 벡터의 차원으로 하고,\n",
    "  - 표현하고 싶은 단어는 1, \n",
    "  - 다른 단어에는 0을 부여하는 형식이며, \n",
    "  - 이를 원-핫 벡터(One-Hot vector)라고 한다.\n",
    "- 원-핫 인코딩 과정\n",
    "  - 정수 인코딩 수행\n",
    "  - 원-핫 벡터로 만들어 준다."
   ]
  },
  {
   "cell_type": "code",
   "execution_count": 2,
   "id": "3fb91b17",
   "metadata": {},
   "outputs": [
    {
     "name": "stdout",
     "output_type": "stream",
     "text": [
      "['나', '는', '자연어', '처리', '를', '배운다']\n",
      "단어 집합 : {'나': 0, '는': 1, '자연어': 2, '처리': 3, '를': 4, '배운다': 5}\n"
     ]
    }
   ],
   "source": [
    "from konlpy.tag import Okt  \n",
    "\n",
    "okt = Okt()  \n",
    "tokens = okt.morphs(\"나는 자연어 처리를 배운다\")  \n",
    "print(tokens)\n",
    "\n",
    "word_to_index = {word : index for index, word in enumerate(tokens)}\n",
    "print('단어 집합 :',word_to_index)"
   ]
  },
  {
   "cell_type": "code",
   "execution_count": 3,
   "id": "1a8d5688",
   "metadata": {},
   "outputs": [
    {
     "data": {
      "text/plain": [
       "[0, 0, 1, 0, 0, 0]"
      ]
     },
     "execution_count": 3,
     "metadata": {},
     "output_type": "execute_result"
    }
   ],
   "source": [
    "def one_hot_encoding(word, word_to_index):\n",
    "  one_hot_vector = [0]*(len(word_to_index))\n",
    "  index = word_to_index[word]\n",
    "  one_hot_vector[index] = 1\n",
    "  return one_hot_vector\n",
    "\n",
    "one_hot_encoding(\"자연어\", word_to_index)"
   ]
  },
  {
   "cell_type": "markdown",
   "id": "f9104174",
   "metadata": {},
   "source": [
    "## 2. 케라스를 이용한 원-핫 인코딩"
   ]
  },
  {
   "cell_type": "code",
   "execution_count": 5,
   "id": "60b53d86",
   "metadata": {},
   "outputs": [
    {
     "name": "stdout",
     "output_type": "stream",
     "text": [
      "단어 집합 : {'갈래': 1, '점심': 2, '햄버거': 3, '나랑': 4, '먹으러': 5, '메뉴는': 6, '최고야': 7}\n"
     ]
    }
   ],
   "source": [
    "from tensorflow.keras.preprocessing.text import Tokenizer\n",
    "from tensorflow.keras.utils import to_categorical\n",
    "\n",
    "text = \"나랑 점심 먹으러 갈래 점심 메뉴는 햄버거 갈래 갈래 햄버거 최고야\"\n",
    "\n",
    "tokenizer = Tokenizer()\n",
    "tokenizer.fit_on_texts([text])\n",
    "print('단어 집합 :',tokenizer.word_index)"
   ]
  },
  {
   "cell_type": "code",
   "execution_count": 6,
   "id": "4c27c8fd",
   "metadata": {},
   "outputs": [
    {
     "name": "stdout",
     "output_type": "stream",
     "text": [
      "[2, 5, 1, 6, 3, 7]\n"
     ]
    }
   ],
   "source": [
    "sub_text = \"점심 먹으러 갈래 메뉴는 햄버거 최고야\"\n",
    "encoded = tokenizer.texts_to_sequences([sub_text])[0]\n",
    "print(encoded)"
   ]
  },
  {
   "cell_type": "code",
   "execution_count": 7,
   "id": "c9722d5e",
   "metadata": {},
   "outputs": [
    {
     "name": "stdout",
     "output_type": "stream",
     "text": [
      "[[0. 0. 1. 0. 0. 0. 0. 0.]\n",
      " [0. 0. 0. 0. 0. 1. 0. 0.]\n",
      " [0. 1. 0. 0. 0. 0. 0. 0.]\n",
      " [0. 0. 0. 0. 0. 0. 1. 0.]\n",
      " [0. 0. 0. 1. 0. 0. 0. 0.]\n",
      " [0. 0. 0. 0. 0. 0. 0. 1.]]\n"
     ]
    }
   ],
   "source": [
    "one_hot = to_categorical(encoded)\n",
    "print(one_hot)"
   ]
  },
  {
   "cell_type": "markdown",
   "id": "f48264c1",
   "metadata": {},
   "source": [
    "## 3. 원-핫 인코딩의 한계\n",
    "- 단어의 개수가 늘어날 수록, 벡터를 저장하기 위해 필요한 공간이 계속 늘어나는 단점이 있다.\n",
    "  - 단어가 1000개라면 벡터 공간의 하나의 값만 1을 가지고 나머지 999개는 0을 가지게 된다.\n",
    "- 단어의 유사도를 표현할 수 없음.\n",
    "  - 검색 시스템 등의 문제가 될 소지가 있음.\n",
    "  - 이러한 단점을 해결하기 위해 단어의 잠재 의미를 반영하여 다차원 공간에 벡터화 하는 방법이 있다.\n",
    "    - 카운트 기반의 벡터화\n",
    "      - LSA(잠재 의미 분석)\n",
    "      - HAL\n",
    "    - 예측 기반의 벡터화\n",
    "      - NNLM\n",
    "      - RNNLM\n",
    "      - Word2Vec\n",
    "      - FastText\n",
    "    - 두가지를 모두 사용하는 방법인 GloVe라는 방법도 존재"
   ]
  },
  {
   "cell_type": "code",
   "execution_count": null,
   "id": "99fb1bb4",
   "metadata": {},
   "outputs": [],
   "source": []
  },
  {
   "cell_type": "code",
   "execution_count": null,
   "id": "15973f03",
   "metadata": {},
   "outputs": [],
   "source": []
  }
 ],
 "metadata": {
  "kernelspec": {
   "display_name": "Python 3 (ipykernel)",
   "language": "python",
   "name": "python3"
  },
  "language_info": {
   "codemirror_mode": {
    "name": "ipython",
    "version": 3
   },
   "file_extension": ".py",
   "mimetype": "text/x-python",
   "name": "python",
   "nbconvert_exporter": "python",
   "pygments_lexer": "ipython3",
   "version": "3.10.8"
  }
 },
 "nbformat": 4,
 "nbformat_minor": 5
}
